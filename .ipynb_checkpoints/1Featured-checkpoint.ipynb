{
 "cells": [
  {
   "cell_type": "markdown",
   "metadata": {},
   "source": [
    "## Dependencies"
   ]
  },
  {
   "cell_type": "code",
   "execution_count": 1,
   "metadata": {},
   "outputs": [],
   "source": [
    "import pandas as pd\n",
    "import numpy as np\n",
    "import json\n",
    "import re \n",
    "import sys\n",
    "import itertools\n",
    "import pyarrow\n",
    "\n",
    "from sklearn.feature_extraction.text import TfidfVectorizer\n",
    "from sklearn.metrics.pairwise import cosine_similarity\n",
    "from sklearn.preprocessing import MinMaxScaler\n",
    "import matplotlib.pyplot as plt\n",
    "\n",
    "\n",
    "import spotipy\n",
    "from spotipy.oauth2 import SpotifyClientCredentials\n",
    "from spotipy.oauth2 import SpotifyOAuth\n",
    "import spotipy.util as util\n",
    "\n",
    "import warnings\n",
    "warnings.filterwarnings(\"ignore\")"
   ]
  },
  {
   "cell_type": "markdown",
   "metadata": {},
   "source": [
    "## 1. Data Exploration/Preparation\n",
    "\n",
    "Download datasets here:\n",
    "https://www.kaggle.com/yamaerenay/spotify-dataset-19212020-160k-tracks"
   ]
  },
  {
   "cell_type": "code",
   "execution_count": 2,
   "metadata": {},
   "outputs": [],
   "source": [
    "spotify_df = pd.read_csv('../data_o.csv')\n",
    "data_w_genre = pd.read_csv('../data_by_artist_o.csv')"
   ]
  },
  {
   "cell_type": "code",
   "execution_count": 3,
   "metadata": {},
   "outputs": [],
   "source": [
    "data_w_genre['genres_upd'] = data_w_genre['genres'].apply(lambda x: [re.sub(' ','_',i) for i in re.findall(r\"'([^']*)'\", x)])"
   ]
  },
  {
   "cell_type": "code",
   "execution_count": 4,
   "metadata": {},
   "outputs": [],
   "source": [
    "spotify_df['artists_upd_v1'] = spotify_df['artists'].apply(lambda x: re.findall(r\"'([^']*)'\", x))\n",
    "\n",
    "\n",
    "spotify_df['artists_upd_v2'] = spotify_df['artists'].apply(lambda x: re.findall('\\\"(.*?)\\\"',x))\n",
    "spotify_df['artists_upd'] = np.where(spotify_df['artists_upd_v1'].apply(lambda x: not x), spotify_df['artists_upd_v2'], spotify_df['artists_upd_v1'] )\n",
    "\n",
    "#need to create my own song identifier because there are duplicates of the same song with different ids. I see different\n",
    "spotify_df['artists_song'] = spotify_df.apply(lambda row: row['artists_upd'][0]+row['name'],axis = 1)\n",
    "\n",
    "spotify_df.sort_values(['artists_song','release_date'], ascending = False, inplace = True)\n",
    "\n",
    "# spotify_df.drop_duplicates('artists_song',inplace = True)\n",
    "\n",
    "artists_exploded = spotify_df[['artists_upd','id']].explode('artists_upd')\n",
    "\n",
    "artists_exploded_enriched = artists_exploded.merge(data_w_genre, how = 'left', left_on = 'artists_upd',right_on = 'artists')\n",
    "artists_exploded_enriched_nonnull = artists_exploded_enriched[~artists_exploded_enriched.genres_upd.isnull()]"
   ]
  },
  {
   "cell_type": "code",
   "execution_count": 5,
   "metadata": {},
   "outputs": [],
   "source": [
    "artists_genres_consolidated = artists_exploded_enriched_nonnull.groupby('id')['genres_upd'].apply(list).reset_index()\n",
    "\n",
    "artists_genres_consolidated['consolidates_genre_lists'] = artists_genres_consolidated['genres_upd'].apply(lambda x: list(set(list(itertools.chain.from_iterable(x)))))\n",
    "\n",
    "spotify_df = spotify_df.merge(artists_genres_consolidated[['id','consolidates_genre_lists']], on = 'id',how = 'left')\n",
    "\n",
    "spotify_df['year'] = spotify_df['release_date'].apply(lambda x: x.split('-')[0])\n",
    "\n",
    "float_cols = spotify_df.dtypes[spotify_df.dtypes == 'float64'].index.values\n",
    "\n",
    "ohe_cols = 'popularity'\n",
    "\n",
    "# create 5 point buckets for popularity \n",
    "spotify_df['popularity_red'] = spotify_df['popularity'].apply(lambda x: int(x/5))\n",
    "\n",
    "# tfidf can't handle nulls so fill any null values with an empty list\n",
    "spotify_df['consolidates_genre_lists'] = spotify_df['consolidates_genre_lists'].apply(lambda d: d if isinstance(d, list) else [])"
   ]
  },
  {
   "cell_type": "code",
   "execution_count": 6,
   "metadata": {},
   "outputs": [],
   "source": [
    "#simple function to create OHE features\n",
    "#this gets passed later on\n",
    "def ohe_prep(df, column, new_name): \n",
    "    \"\"\" \n",
    "    Create One Hot Encoded features of a specific column\n",
    "\n",
    "    Parameters: \n",
    "        df (pandas dataframe): Spotify Dataframe\n",
    "        column (str): Column to be processed\n",
    "        new_name (str): new column name to be used\n",
    "        \n",
    "    Returns: \n",
    "        tf_df: One hot encoded features \n",
    "    \"\"\"\n",
    "    \n",
    "    tf_df = pd.get_dummies(df[column])\n",
    "    feature_names = tf_df.columns\n",
    "    tf_df.columns = [new_name + \"|\" + str(i) for i in feature_names]\n",
    "    tf_df.reset_index(drop = True, inplace = True)    \n",
    "    return tf_df\n"
   ]
  },
  {
   "cell_type": "code",
   "execution_count": 7,
   "metadata": {},
   "outputs": [],
   "source": [
    "#function to build entire feature set\n",
    "def create_feature_set(df, float_cols):\n",
    "    \"\"\" \n",
    "    Process spotify df to create a final set of features that will be used to generate recommendations\n",
    "\n",
    "    Parameters: \n",
    "        df (pandas dataframe): Spotify Dataframe\n",
    "        float_cols (list(str)): List of float columns that will be scaled \n",
    "        \n",
    "    Returns: \n",
    "        final: final set of features \n",
    "    \"\"\"\n",
    "    \n",
    "    #tfidf genre lists\n",
    "    tfidf = TfidfVectorizer()\n",
    "    tfidf_matrix =  tfidf.fit_transform(df['consolidates_genre_lists'].apply(lambda x: \" \".join(x)))\n",
    "    genre_df = pd.DataFrame(tfidf_matrix.toarray())\n",
    "    genre_df.columns = ['genre' + \"|\" + i for i in tfidf.get_feature_names()]\n",
    "    genre_df.reset_index(drop = True, inplace=True)\n",
    "\n",
    "    #explicity_ohe = ohe_prep(df, 'explicit','exp')    \n",
    "    year_ohe = ohe_prep(df, 'year','year') * 0.5\n",
    "    popularity_ohe = ohe_prep(df, 'popularity_red','pop') * 0.15\n",
    "\n",
    "    #scale float columns\n",
    "    floats = df[float_cols].reset_index(drop = True)\n",
    "    scaler = MinMaxScaler()\n",
    "    floats_scaled = pd.DataFrame(scaler.fit_transform(floats), columns = floats.columns) * 0.2\n",
    "\n",
    "    #concanenate all features\n",
    "    final = pd.concat([genre_df, floats_scaled, popularity_ohe, year_ohe], axis = 1)\n",
    "     \n",
    "    #add song id\n",
    "    final['id']=df['id'].values\n",
    "    \n",
    "    return final"
   ]
  },
  {
   "cell_type": "code",
   "execution_count": 8,
   "metadata": {},
   "outputs": [],
   "source": [
    "def remove_feat(s):\n",
    "    if \"feat\" in s:\n",
    "        return s[:s.find(\"feat\")-1]\n",
    "    else:\n",
    "        return s\n",
    "spotify_df['name'] = spotify_df['name'].apply(remove_feat)"
   ]
  },
  {
   "cell_type": "code",
   "execution_count": 9,
   "metadata": {},
   "outputs": [],
   "source": [
    "client_id = '79ca288b68884e198c53146b51adfa1e'\n",
    "client_secret= '63242b064ebb4e379bfca173dd482e79'\n",
    "auth_manager = SpotifyClientCredentials(client_id=client_id, client_secret=client_secret)\n",
    "sp = spotipy.Spotify(auth_manager=auth_manager)"
   ]
  },
  {
   "cell_type": "code",
   "execution_count": null,
   "metadata": {},
   "outputs": [],
   "source": []
  },
  {
   "cell_type": "code",
   "execution_count": 15,
   "metadata": {},
   "outputs": [
    {
     "data": {
      "text/plain": [
       "(688, 377)"
      ]
     },
     "execution_count": 15,
     "metadata": {},
     "output_type": "execute_result"
    }
   ],
   "source": [
    "# spotify_df = pd.read_feather(\"spotify_df.feather\")\n",
    "# spotify_df_low = pd.read_feather(\"spotify_df_low.feather\")\n",
    "\n",
    "# spotify_df_low.head()\n",
    "\n",
    "complete_feature_set_low.shape"
   ]
  },
  {
   "cell_type": "code",
   "execution_count": 11,
   "metadata": {},
   "outputs": [],
   "source": [
    "complete_feature_set = create_feature_set(spotify_df, float_cols=float_cols)#.mean(axis = 0)\n",
    "spotify_df_low = spotify_df.drop(spotify_df[spotify_df['popularity'] < 70].index)\n",
    "complete_feature_set_low = create_feature_set(spotify_df_low, float_cols=float_cols)"
   ]
  },
  {
   "cell_type": "code",
   "execution_count": 12,
   "metadata": {},
   "outputs": [],
   "source": [
    "spotify_df_low['url'] = spotify_df_low['id'].apply(lambda x: sp.track(x)['album']['images'][1]['url'])\n",
    "spotify_df_low = spotify_df_low[['artists','id','name','artists_upd_v1', 'artists_song', 'url']]"
   ]
  },
  {
   "cell_type": "code",
   "execution_count": 13,
   "metadata": {},
   "outputs": [],
   "source": [
    "spotify_df.to_feather('spotify_df.feather')\n",
    "spotify_df_low.reset_index().to_feather('spotify_df_low.feather')\n",
    "complete_feature_set.to_feather('complete_feature_set.feather')"
   ]
  },
  {
   "cell_type": "code",
   "execution_count": null,
   "metadata": {
    "scrolled": true
   },
   "outputs": [],
   "source": []
  },
  {
   "cell_type": "code",
   "execution_count": 16,
   "metadata": {},
   "outputs": [],
   "source": [
    "def compress_feature_set(complete_feature_set_low):\n",
    "    e = []\n",
    "    f = []\n",
    "    \n",
    "    # dividing df into only genre column and except genre column\n",
    "    for i in complete_feature_set_low.columns:\n",
    "        if i.split('|')[0]!='genre':\n",
    "            e.append(i)\n",
    "        else:\n",
    "            f.append(i)\n",
    "    cfs = complete_feature_set_low.drop(e,axis=1)\n",
    "    cfs_other = complete_feature_set_low.drop(f,axis=1)\n",
    "    new_cfs = pd.DataFrame()\n",
    "\n",
    "    # making columns with every word separate and adding the similar accurance columns\n",
    "    for i in cfs.columns:\n",
    "        tmp = i.split('|')[1].split('_')\n",
    "        for j in tmp:    \n",
    "            try:\n",
    "                new_cfs[j] = new_cfs[j] + complete_feature_set_low[i]\n",
    "            except:\n",
    "                new_cfs[j] = complete_feature_set_low[i]\n",
    "\n",
    "    # dropping columns with low value count\n",
    "    tmp = list(complete_feature_set_low.columns)\n",
    "    x = []\n",
    "    l = []\n",
    "    c = ''\n",
    "    for i in tmp:\n",
    "        c = i.split('|')[0]\n",
    "        if c=='genre':\n",
    "            i = i.split('|')[1]\n",
    "            l = i.split('_')\n",
    "            for j in l:\n",
    "                x.append(j)        \n",
    "\n",
    "    new_cfs = new_cfs.drop(list(pd.Series(x).value_counts().index)[100:], axis=1)\n",
    "                \n",
    "    cfs_final = pd.concat([new_cfs,cfs_other],axis=1)\n",
    "    return cfs_final"
   ]
  },
  {
   "cell_type": "code",
   "execution_count": 17,
   "metadata": {},
   "outputs": [],
   "source": [
    "cfs_final = compress_feature_set(complete_feature_set_low)\n",
    "\n",
    "cfs_final.to_feather('cfs_final.feather')"
   ]
  },
  {
   "cell_type": "code",
   "execution_count": 16,
   "metadata": {},
   "outputs": [],
   "source": [
    "# spotify_df[spotify_df['id'] == '1i1fxkWeaMmKEB4T7zqbzK']['artists_upd_v1'].iloc[0]"
   ]
  },
  {
   "cell_type": "code",
   "execution_count": 17,
   "metadata": {},
   "outputs": [],
   "source": [
    "# id_list= ['7qiZfU4dY1lWllzX7mPBI3','1i1fxkWeaMmKEB4T7zqbzK','0e7ipj03S05BNilyu5bRzt','0VjIjW4GlUZAMYd2vXMi3b','2Fxmhks0bxGSBdJ92vM42m','0TK2YIli7K1leLovkQiNik','3KkXRkHbMCARz0aVfEt68P','1rfofaqEpACxVEHIZBJe6W','0pqnGHJpmpxLKifKRmU6WP']"
   ]
  },
  {
   "cell_type": "code",
   "execution_count": 24,
   "metadata": {},
   "outputs": [],
   "source": [
    "# spotify_df.sort_values(\"popularity\",ascending=False)[['name','artists','popularity']].head(30)"
   ]
  },
  {
   "cell_type": "code",
   "execution_count": 19,
   "metadata": {},
   "outputs": [
    {
     "data": {
      "text/plain": [
       "(688, 163)"
      ]
     },
     "execution_count": 19,
     "metadata": {},
     "output_type": "execute_result"
    }
   ],
   "source": [
    "cfs_final.shape"
   ]
  },
  {
   "cell_type": "code",
   "execution_count": null,
   "metadata": {},
   "outputs": [],
   "source": []
  }
 ],
 "metadata": {
  "kernelspec": {
   "display_name": "Python 3",
   "language": "python",
   "name": "python3"
  },
  "language_info": {
   "codemirror_mode": {
    "name": "ipython",
    "version": 3
   },
   "file_extension": ".py",
   "mimetype": "text/x-python",
   "name": "python",
   "nbconvert_exporter": "python",
   "pygments_lexer": "ipython3",
   "version": "3.7.3"
  }
 },
 "nbformat": 4,
 "nbformat_minor": 4
}
