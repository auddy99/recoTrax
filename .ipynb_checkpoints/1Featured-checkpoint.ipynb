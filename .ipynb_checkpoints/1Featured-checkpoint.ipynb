{
 "cells": [
  {
   "cell_type": "markdown",
   "metadata": {},
   "source": [
    "## Dependencies"
   ]
  },
  {
   "cell_type": "code",
   "execution_count": 1,
   "metadata": {},
   "outputs": [],
   "source": [
    "import pandas as pd\n",
    "import numpy as np\n",
    "import json\n",
    "import re \n",
    "import sys\n",
    "import itertools\n",
    "import pyarrow\n",
    "\n",
    "from sklearn.feature_extraction.text import TfidfVectorizer\n",
    "from sklearn.metrics.pairwise import cosine_similarity\n",
    "from sklearn.preprocessing import MinMaxScaler\n",
    "import matplotlib.pyplot as plt\n",
    "\n",
    "\n",
    "import spotipy\n",
    "from spotipy.oauth2 import SpotifyClientCredentials\n",
    "from spotipy.oauth2 import SpotifyOAuth\n",
    "import spotipy.util as util\n",
    "\n",
    "import warnings\n",
    "warnings.filterwarnings(\"ignore\")"
   ]
  },
  {
   "cell_type": "markdown",
   "metadata": {},
   "source": [
    "## 1. Data Exploration/Preparation\n",
    "\n",
    "Download datasets here:\n",
    "https://www.kaggle.com/yamaerenay/spotify-dataset-19212020-160k-tracks"
   ]
  },
  {
   "cell_type": "code",
   "execution_count": 2,
   "metadata": {},
   "outputs": [],
   "source": [
    "spotify_df = pd.read_csv('../data_o.csv')"
   ]
  },
  {
   "cell_type": "code",
   "execution_count": 4,
   "metadata": {},
   "outputs": [],
   "source": [
    "data_w_genre = pd.read_csv('../data_by_artist_o.csv')"
   ]
  },
  {
   "cell_type": "code",
   "execution_count": 5,
   "metadata": {},
   "outputs": [],
   "source": [
    "data_w_genre['genres_upd'] = data_w_genre['genres'].apply(lambda x: [re.sub(' ','_',i) for i in re.findall(r\"'([^']*)'\", x)])"
   ]
  },
  {
   "cell_type": "code",
   "execution_count": 6,
   "metadata": {},
   "outputs": [],
   "source": [
    "spotify_df['artists_upd_v1'] = spotify_df['artists'].apply(lambda x: re.findall(r\"'([^']*)'\", x))\n"
   ]
  },
  {
   "cell_type": "code",
   "execution_count": 7,
   "metadata": {},
   "outputs": [],
   "source": [
    "spotify_df['artists_upd_v2'] = spotify_df['artists'].apply(lambda x: re.findall('\\\"(.*?)\\\"',x))\n",
    "spotify_df['artists_upd'] = np.where(spotify_df['artists_upd_v1'].apply(lambda x: not x), spotify_df['artists_upd_v2'], spotify_df['artists_upd_v1'] )"
   ]
  },
  {
   "cell_type": "code",
   "execution_count": 8,
   "metadata": {},
   "outputs": [],
   "source": [
    "#need to create my own song identifier because there are duplicates of the same song with different ids. I see different\n",
    "spotify_df['artists_song'] = spotify_df.apply(lambda row: row['artists_upd'][0]+row['name'],axis = 1)"
   ]
  },
  {
   "cell_type": "code",
   "execution_count": 9,
   "metadata": {},
   "outputs": [],
   "source": [
    "spotify_df.sort_values(['artists_song','release_date'], ascending = False, inplace = True)"
   ]
  },
  {
   "cell_type": "code",
   "execution_count": 10,
   "metadata": {},
   "outputs": [],
   "source": [
    "# spotify_df.drop_duplicates('artists_song',inplace = True)"
   ]
  },
  {
   "cell_type": "code",
   "execution_count": 11,
   "metadata": {
    "scrolled": true
   },
   "outputs": [],
   "source": [
    "artists_exploded = spotify_df[['artists_upd','id']].explode('artists_upd')"
   ]
  },
  {
   "cell_type": "code",
   "execution_count": 12,
   "metadata": {
    "scrolled": true
   },
   "outputs": [],
   "source": [
    "artists_exploded_enriched = artists_exploded.merge(data_w_genre, how = 'left', left_on = 'artists_upd',right_on = 'artists')\n",
    "artists_exploded_enriched_nonnull = artists_exploded_enriched[~artists_exploded_enriched.genres_upd.isnull()]"
   ]
  },
  {
   "cell_type": "code",
   "execution_count": 13,
   "metadata": {},
   "outputs": [],
   "source": [
    "artists_genres_consolidated = artists_exploded_enriched_nonnull.groupby('id')['genres_upd'].apply(list).reset_index()"
   ]
  },
  {
   "cell_type": "code",
   "execution_count": 14,
   "metadata": {},
   "outputs": [],
   "source": [
    "artists_genres_consolidated['consolidates_genre_lists'] = artists_genres_consolidated['genres_upd'].apply(lambda x: list(set(list(itertools.chain.from_iterable(x)))))"
   ]
  },
  {
   "cell_type": "code",
   "execution_count": 15,
   "metadata": {},
   "outputs": [],
   "source": [
    "spotify_df = spotify_df.merge(artists_genres_consolidated[['id','consolidates_genre_lists']], on = 'id',how = 'left')"
   ]
  },
  {
   "cell_type": "markdown",
   "metadata": {},
   "source": [
    "## 2. Feature Engineering\n",
    "\n",
    "### - Normalize float variables\n",
    "### - OHE Year and Popularity Variables\n",
    "### - Create TF-IDF features off of artist genres"
   ]
  },
  {
   "cell_type": "code",
   "execution_count": 16,
   "metadata": {},
   "outputs": [],
   "source": [
    "spotify_df['year'] = spotify_df['release_date'].apply(lambda x: x.split('-')[0])"
   ]
  },
  {
   "cell_type": "code",
   "execution_count": 17,
   "metadata": {},
   "outputs": [],
   "source": [
    "float_cols = spotify_df.dtypes[spotify_df.dtypes == 'float64'].index.values"
   ]
  },
  {
   "cell_type": "code",
   "execution_count": 18,
   "metadata": {},
   "outputs": [],
   "source": [
    "ohe_cols = 'popularity'"
   ]
  },
  {
   "cell_type": "code",
   "execution_count": 19,
   "metadata": {},
   "outputs": [],
   "source": [
    "# create 5 point buckets for popularity \n",
    "spotify_df['popularity_red'] = spotify_df['popularity'].apply(lambda x: int(x/5))"
   ]
  },
  {
   "cell_type": "code",
   "execution_count": 20,
   "metadata": {},
   "outputs": [],
   "source": [
    "# tfidf can't handle nulls so fill any null values with an empty list\n",
    "spotify_df['consolidates_genre_lists'] = spotify_df['consolidates_genre_lists'].apply(lambda d: d if isinstance(d, list) else [])"
   ]
  },
  {
   "cell_type": "code",
   "execution_count": 21,
   "metadata": {},
   "outputs": [],
   "source": [
    "#simple function to create OHE features\n",
    "#this gets passed later on\n",
    "def ohe_prep(df, column, new_name): \n",
    "    \"\"\" \n",
    "    Create One Hot Encoded features of a specific column\n",
    "\n",
    "    Parameters: \n",
    "        df (pandas dataframe): Spotify Dataframe\n",
    "        column (str): Column to be processed\n",
    "        new_name (str): new column name to be used\n",
    "        \n",
    "    Returns: \n",
    "        tf_df: One hot encoded features \n",
    "    \"\"\"\n",
    "    \n",
    "    tf_df = pd.get_dummies(df[column])\n",
    "    feature_names = tf_df.columns\n",
    "    tf_df.columns = [new_name + \"|\" + str(i) for i in feature_names]\n",
    "    tf_df.reset_index(drop = True, inplace = True)    \n",
    "    return tf_df\n"
   ]
  },
  {
   "cell_type": "code",
   "execution_count": null,
   "metadata": {},
   "outputs": [],
   "source": []
  },
  {
   "cell_type": "code",
   "execution_count": 22,
   "metadata": {},
   "outputs": [],
   "source": [
    "#function to build entire feature set\n",
    "def create_feature_set(df, float_cols):\n",
    "    \"\"\" \n",
    "    Process spotify df to create a final set of features that will be used to generate recommendations\n",
    "\n",
    "    Parameters: \n",
    "        df (pandas dataframe): Spotify Dataframe\n",
    "        float_cols (list(str)): List of float columns that will be scaled \n",
    "        \n",
    "    Returns: \n",
    "        final: final set of features \n",
    "    \"\"\"\n",
    "    \n",
    "    #tfidf genre lists\n",
    "    tfidf = TfidfVectorizer()\n",
    "    tfidf_matrix =  tfidf.fit_transform(df['consolidates_genre_lists'].apply(lambda x: \" \".join(x)))\n",
    "    genre_df = pd.DataFrame(tfidf_matrix.toarray())\n",
    "    genre_df.columns = ['genre' + \"|\" + i for i in tfidf.get_feature_names()]\n",
    "    genre_df.reset_index(drop = True, inplace=True)\n",
    "\n",
    "    #explicity_ohe = ohe_prep(df, 'explicit','exp')    \n",
    "    year_ohe = ohe_prep(df, 'year','year') * 0.5\n",
    "    popularity_ohe = ohe_prep(df, 'popularity_red','pop') * 0.15\n",
    "\n",
    "    #scale float columns\n",
    "    floats = df[float_cols].reset_index(drop = True)\n",
    "    scaler = MinMaxScaler()\n",
    "    floats_scaled = pd.DataFrame(scaler.fit_transform(floats), columns = floats.columns) * 0.2\n",
    "\n",
    "    #concanenate all features\n",
    "    final = pd.concat([genre_df, floats_scaled, popularity_ohe, year_ohe], axis = 1)\n",
    "     \n",
    "    #add song id\n",
    "    final['id']=df['id'].values\n",
    "    \n",
    "    return final"
   ]
  },
  {
   "cell_type": "code",
   "execution_count": 23,
   "metadata": {},
   "outputs": [],
   "source": [
    "def remove_feat(s):\n",
    "    if \"feat\" in s:\n",
    "        return s[:s.find(\"feat\")-1]\n",
    "    else:\n",
    "        return s\n",
    "spotify_df['name'] = spotify_df['name'].apply(remove_feat)"
   ]
  },
  {
   "cell_type": "code",
   "execution_count": 24,
   "metadata": {},
   "outputs": [],
   "source": [
    "client_id = '79ca288b68884e198c53146b51adfa1e'\n",
    "client_secret= '63242b064ebb4e379bfca173dd482e79'\n",
    "auth_manager = SpotifyClientCredentials(client_id=client_id, client_secret=client_secret)\n",
    "sp = spotipy.Spotify(auth_manager=auth_manager)"
   ]
  },
  {
   "cell_type": "code",
   "execution_count": 30,
   "metadata": {},
   "outputs": [
    {
     "data": {
      "text/plain": [
       "0    2ghebdwe2pNXT4eL34T7pW\n",
       "1    3KIuCzckjdeeVuswPo20mC\n",
       "2    4prhqrLXYMjHJ6vpRAlasx\n",
       "3    5xFXTvnEe03SyvFpo6pEaE\n",
       "4    6Pqs2suXEqCGx7Lxg5dlrB\n",
       "Name: id, dtype: object"
      ]
     },
     "execution_count": 30,
     "metadata": {},
     "output_type": "execute_result"
    }
   ],
   "source": [
    "spotify_df['url'] = sp.track(spotify_df['id'])['album']['images'][1]['url']"
   ]
  },
  {
   "cell_type": "code",
   "execution_count": 29,
   "metadata": {},
   "outputs": [
    {
     "data": {
      "text/plain": [
       "'https://i.scdn.co/image/ab67616d00001e02ba5db46f4b838ef6027e6f96'"
      ]
     },
     "execution_count": 29,
     "metadata": {},
     "output_type": "execute_result"
    }
   ],
   "source": []
  },
  {
   "cell_type": "code",
   "execution_count": null,
   "metadata": {},
   "outputs": [],
   "source": []
  },
  {
   "cell_type": "code",
   "execution_count": null,
   "metadata": {},
   "outputs": [],
   "source": []
  },
  {
   "cell_type": "code",
   "execution_count": null,
   "metadata": {},
   "outputs": [],
   "source": []
  },
  {
   "cell_type": "code",
   "execution_count": 236,
   "metadata": {},
   "outputs": [],
   "source": [
    "complete_feature_set = create_feature_set(spotify_df, float_cols=float_cols)#.mean(axis = 0)\n",
    "spotify_df_low = spotify_df.drop(spotify_df[spotify_df['popularity'] < 50].index)\n",
    "complete_feature_set_low = create_feature_set(spotify_df_low, float_cols=float_cols)"
   ]
  },
  {
   "cell_type": "code",
   "execution_count": 237,
   "metadata": {
    "scrolled": true
   },
   "outputs": [],
   "source": [
    "spotify_df = spotify_df.drop('consolidates_genre_lists',axis=1)\n",
    "spotify_df.to_feather('spotify_df.feather')\n",
    "spotify_df_low = spotify_df_low.drop('consolidates_genre_lists',axis=1)\n",
    "spotify_df_low.reset_index().to_feather('spotify_df_low.feather')\n",
    "complete_feature_set.to_feather('complete_feature_set.feather')"
   ]
  },
  {
   "cell_type": "code",
   "execution_count": null,
   "metadata": {},
   "outputs": [],
   "source": []
  },
  {
   "cell_type": "code",
   "execution_count": 238,
   "metadata": {},
   "outputs": [],
   "source": [
    "# tmp = list(complete_feature_set_low.columns)\n",
    "# x = []\n",
    "# l = []\n",
    "# c = ''\n",
    "# for i in tmp:\n",
    "#     try:\n",
    "#         c = i.split('|')[0]\n",
    "#         i = i.split('|')[1]\n",
    "#     except:\n",
    "#         pass\n",
    "#     l = i.split('_')\n",
    "#     for j in l:\n",
    "#         x.append(j)"
   ]
  },
  {
   "cell_type": "code",
   "execution_count": 239,
   "metadata": {},
   "outputs": [],
   "source": [
    "# w=[]\n",
    "# for i in range(50):\n",
    "#     w.append((pd.Series(x).value_counts()>i).sum())\n"
   ]
  },
  {
   "cell_type": "code",
   "execution_count": 240,
   "metadata": {},
   "outputs": [],
   "source": [
    "# list(pd.Series(x).value_counts().index)[:5]"
   ]
  },
  {
   "cell_type": "code",
   "execution_count": null,
   "metadata": {
    "scrolled": true
   },
   "outputs": [],
   "source": []
  },
  {
   "cell_type": "code",
   "execution_count": 241,
   "metadata": {},
   "outputs": [],
   "source": [
    "def compress_feature_set(complete_feature_set_low):\n",
    "    e = []\n",
    "    f = []\n",
    "    \n",
    "    # dividing df into only genre column and except genre column\n",
    "    for i in complete_feature_set_low.columns:\n",
    "        if i.split('|')[0]!='genre':\n",
    "            e.append(i)\n",
    "        else:\n",
    "            f.append(i)\n",
    "    cfs = complete_feature_set_low.drop(e,axis=1)\n",
    "    cfs_other = complete_feature_set_low.drop(f,axis=1)\n",
    "    new_cfs = pd.DataFrame()\n",
    "\n",
    "    # making columns with every word separate and adding the similar accurance columns\n",
    "    for i in cfs.columns:\n",
    "        tmp = i.split('|')[1].split('_')\n",
    "        for j in tmp:    \n",
    "            try:\n",
    "                new_cfs[j] = new_cfs[j] + complete_feature_set_low[i]\n",
    "            except:\n",
    "                new_cfs[j] = complete_feature_set_low[i]\n",
    "\n",
    "    # dropping columns with low value count\n",
    "    tmp = list(complete_feature_set_low.columns)\n",
    "    x = []\n",
    "    l = []\n",
    "    c = ''\n",
    "    for i in tmp:\n",
    "        c = i.split('|')[0]\n",
    "        if c=='genre':\n",
    "            i = i.split('|')[1]\n",
    "            l = i.split('_')\n",
    "            for j in l:\n",
    "                x.append(j)        \n",
    "\n",
    "    new_cfs = new_cfs.drop(list(pd.Series(x).value_counts().index)[100:], axis=1)\n",
    "                \n",
    "    cfs_final = pd.concat([new_cfs,cfs_other],axis=1)\n",
    "    return cfs_final"
   ]
  },
  {
   "cell_type": "code",
   "execution_count": null,
   "metadata": {},
   "outputs": [],
   "source": []
  },
  {
   "cell_type": "code",
   "execution_count": 242,
   "metadata": {},
   "outputs": [],
   "source": [
    "cfs_final = compress_feature_set(complete_feature_set_low)"
   ]
  },
  {
   "cell_type": "code",
   "execution_count": 243,
   "metadata": {},
   "outputs": [],
   "source": [
    "cfs_final.to_feather('cfs_final.feather')"
   ]
  },
  {
   "cell_type": "code",
   "execution_count": 244,
   "metadata": {},
   "outputs": [],
   "source": [
    "# cfs_final.head()"
   ]
  },
  {
   "cell_type": "code",
   "execution_count": 245,
   "metadata": {},
   "outputs": [
    {
     "data": {
      "text/html": [
       "<div>\n",
       "<style scoped>\n",
       "    .dataframe tbody tr th:only-of-type {\n",
       "        vertical-align: middle;\n",
       "    }\n",
       "\n",
       "    .dataframe tbody tr th {\n",
       "        vertical-align: top;\n",
       "    }\n",
       "\n",
       "    .dataframe thead th {\n",
       "        text-align: right;\n",
       "    }\n",
       "</style>\n",
       "<table border=\"1\" class=\"dataframe\">\n",
       "  <thead>\n",
       "    <tr style=\"text-align: right;\">\n",
       "      <th></th>\n",
       "      <th>valence</th>\n",
       "      <th>year</th>\n",
       "      <th>acousticness</th>\n",
       "      <th>artists</th>\n",
       "      <th>danceability</th>\n",
       "      <th>duration_ms</th>\n",
       "      <th>energy</th>\n",
       "      <th>explicit</th>\n",
       "      <th>id</th>\n",
       "      <th>instrumentalness</th>\n",
       "      <th>...</th>\n",
       "      <th>name</th>\n",
       "      <th>popularity</th>\n",
       "      <th>release_date</th>\n",
       "      <th>speechiness</th>\n",
       "      <th>tempo</th>\n",
       "      <th>artists_upd_v1</th>\n",
       "      <th>artists_upd_v2</th>\n",
       "      <th>artists_upd</th>\n",
       "      <th>artists_song</th>\n",
       "      <th>popularity_red</th>\n",
       "    </tr>\n",
       "  </thead>\n",
       "  <tbody>\n",
       "  </tbody>\n",
       "</table>\n",
       "<p>0 rows × 24 columns</p>\n",
       "</div>"
      ],
      "text/plain": [
       "Empty DataFrame\n",
       "Columns: [valence, year, acousticness, artists, danceability, duration_ms, energy, explicit, id, instrumentalness, key, liveness, loudness, mode, name, popularity, release_date, speechiness, tempo, artists_upd_v1, artists_upd_v2, artists_upd, artists_song, popularity_red]\n",
       "Index: []\n",
       "\n",
       "[0 rows x 24 columns]"
      ]
     },
     "execution_count": 245,
     "metadata": {},
     "output_type": "execute_result"
    }
   ],
   "source": [
    "spotify_df[spotify_df['id']=='']"
   ]
  },
  {
   "cell_type": "code",
   "execution_count": 23,
   "metadata": {},
   "outputs": [
    {
     "data": {
      "text/plain": [
       "['The Chainsmokers', 'Daya']"
      ]
     },
     "execution_count": 23,
     "metadata": {},
     "output_type": "execute_result"
    }
   ],
   "source": [
    "spotify_df[spotify_df['id'] == '1i1fxkWeaMmKEB4T7zqbzK']['artists_upd_v1'].iloc[0]"
   ]
  },
  {
   "cell_type": "code",
   "execution_count": 27,
   "metadata": {},
   "outputs": [],
   "source": [
    "id_list= ['7qiZfU4dY1lWllzX7mPBI3','1i1fxkWeaMmKEB4T7zqbzK','0e7ipj03S05BNilyu5bRzt','0VjIjW4GlUZAMYd2vXMi3b','2Fxmhks0bxGSBdJ92vM42m','0TK2YIli7K1leLovkQiNik','3KkXRkHbMCARz0aVfEt68P','1rfofaqEpACxVEHIZBJe6W','0pqnGHJpmpxLKifKRmU6WP']"
   ]
  },
  {
   "cell_type": "code",
   "execution_count": 29,
   "metadata": {},
   "outputs": [],
   "source": [
    "idDF = pd.DataFrame({'id':[],'name':[],'artists':[],'url':[],'date_added':[]})\n",
    "for id in id_list:\n",
    "    artistName = spotify_df[spotify_df['id'] == id]['artists_upd_v1'].iloc[0]\n",
    "    songName = spotify_df[spotify_df['id'] == id]['name'].values[0]\n",
    "    imageId = \"sample\"\n",
    "    newRow = {'id':id,'name':songName,'artists':artistName,'url':imageId,\n",
    "    'date_added':pd.to_datetime('2021-04-27 08:09:52+00:00')}\n",
    "    idDF = idDF.append(newRow,ignore_index=True)"
   ]
  },
  {
   "cell_type": "code",
   "execution_count": 31,
   "metadata": {},
   "outputs": [],
   "source": [
    "artist_list = list(idDF['artists'])"
   ]
  },
  {
   "cell_type": "code",
   "execution_count": 32,
   "metadata": {},
   "outputs": [
    {
     "data": {
      "text/plain": [
       "[['Ed Sheeran'],\n",
       " ['The Chainsmokers', 'Daya'],\n",
       " ['Post Malone', '21 Savage'],\n",
       " ['The Weeknd'],\n",
       " ['Billie Eilish'],\n",
       " ['Shawn Mendes', 'Camila Cabello'],\n",
       " ['Post Malone', 'Swae Lee'],\n",
       " ['Camila Cabello', 'Young Thug'],\n",
       " ['Imagine Dragons']]"
      ]
     },
     "execution_count": 32,
     "metadata": {},
     "output_type": "execute_result"
    }
   ],
   "source": [
    "artist_list"
   ]
  },
  {
   "cell_type": "code",
   "execution_count": null,
   "metadata": {},
   "outputs": [],
   "source": []
  }
 ],
 "metadata": {
  "kernelspec": {
   "display_name": "Python 3",
   "language": "python",
   "name": "python3"
  },
  "language_info": {
   "codemirror_mode": {
    "name": "ipython",
    "version": 3
   },
   "file_extension": ".py",
   "mimetype": "text/x-python",
   "name": "python",
   "nbconvert_exporter": "python",
   "pygments_lexer": "ipython3",
   "version": "3.7.3"
  }
 },
 "nbformat": 4,
 "nbformat_minor": 4
}
